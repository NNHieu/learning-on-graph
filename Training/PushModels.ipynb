{
 "cells": [
  {
   "cell_type": "code",
   "execution_count": 1,
   "metadata": {},
   "outputs": [
    {
     "name": "stderr",
     "output_type": "stream",
     "text": [
      "/home/kappa/miniconda3/envs/handbook/lib/python3.10/site-packages/tqdm/auto.py:21: TqdmWarning: IProgress not found. Please update jupyter and ipywidgets. See https://ipywidgets.readthedocs.io/en/stable/user_install.html\n",
      "  from .autonotebook import tqdm as notebook_tqdm\n"
     ]
    }
   ],
   "source": [
    "import torch\n",
    "import datasets\n",
    "from transformers import AutoModelForCausalLM"
   ]
  },
  {
   "cell_type": "code",
   "execution_count": 3,
   "metadata": {},
   "outputs": [
    {
     "name": "stdout",
     "output_type": "stream",
     "text": [
      "[2024-11-07 08:28:17,564] [INFO] [real_accelerator.py:158:get_accelerator] Setting ds_accelerator to cuda (auto detect)\n"
     ]
    },
    {
     "name": "stderr",
     "output_type": "stream",
     "text": [
      "model.safetensors: 100%|██████████| 12.8M/12.8M [00:03<00:00, 3.58MB/s]\n",
      "model.safetensors: 100%|██████████| 12.8M/12.8M [00:02<00:00, 5.74MB/s]\n",
      "model.safetensors: 100%|██████████| 12.8M/12.8M [00:02<00:00, 5.58MB/s]\n"
     ]
    }
   ],
   "source": [
    "checkpoints = [\n",
    "    1825, \n",
    "    3650, \n",
    "    5475, \n",
    "    # 7300, \n",
    "    # 9125, \n",
    "    # 10950, 12775, \n",
    "    # 14600, \n",
    "    # 16425, \n",
    "    # 18250,\n",
    "]\n",
    "\n",
    "for ckpt in checkpoints:\n",
    "    model_path = f\"outputs/pretrain/shortestpath_50_15_2_4/direct_step_eval_gpt_neox_6x4x256/checkpoint-{ckpt}\"\n",
    "    # load a base model and tokenizer\n",
    "    model = AutoModelForCausalLM.from_pretrained(\n",
    "        model_path,    \n",
    "        # device_map={\"\": accelerator.process_index},\n",
    "        # torch_dtype=torch.bfloat16,\n",
    "    )\n",
    "    # # push to the hub\n",
    "    model.push_to_hub(\"nnheui/gptneox_6x4x256_shortestpath_15_2_4\", revision=f\"checkpoint-{ckpt}\")"
   ]
  },
  {
   "cell_type": "code",
   "execution_count": null,
   "metadata": {},
   "outputs": [],
   "source": []
  }
 ],
 "metadata": {
  "kernelspec": {
   "display_name": "handbook",
   "language": "python",
   "name": "python3"
  },
  "language_info": {
   "codemirror_mode": {
    "name": "ipython",
    "version": 3
   },
   "file_extension": ".py",
   "mimetype": "text/x-python",
   "name": "python",
   "nbconvert_exporter": "python",
   "pygments_lexer": "ipython3",
   "version": "3.10.14"
  }
 },
 "nbformat": 4,
 "nbformat_minor": 2
}
